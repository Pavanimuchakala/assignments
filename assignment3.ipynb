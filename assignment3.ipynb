{
 "cells": [
  {
   "cell_type": "markdown",
   "id": "9e4c67c4",
   "metadata": {},
   "source": [
    "1. Why are functions advantageous to have in your programs?"
   ]
  },
  {
   "cell_type": "code",
   "execution_count": null,
   "id": "559140df",
   "metadata": {},
   "outputs": [],
   "source": [
    "functions are used to allow the usto use the collection of script multiple times without writing the code multiple times\n",
    "and also reduced the length of the code"
   ]
  },
  {
   "cell_type": "markdown",
   "id": "407785d0",
   "metadata": {},
   "source": [
    "When does the code in a function run: when it&#39;s specified or when it&#39;s called?"
   ]
  },
  {
   "cell_type": "code",
   "execution_count": null,
   "id": "8d72216b",
   "metadata": {},
   "outputs": [],
   "source": [
    "the code in the pyhton runs when the function is called"
   ]
  },
  {
   "cell_type": "markdown",
   "id": "8bfa4c25",
   "metadata": {},
   "source": [
    "What statement creates a function?"
   ]
  },
  {
   "cell_type": "code",
   "execution_count": null,
   "id": "eede2ea6",
   "metadata": {},
   "outputs": [],
   "source": [
    "def <functionname>:\n",
    "    code of function"
   ]
  },
  {
   "cell_type": "markdown",
   "id": "a743531d",
   "metadata": {},
   "source": [
    "What is the difference between a function and a function call?"
   ]
  },
  {
   "cell_type": "code",
   "execution_count": null,
   "id": "e1a55687",
   "metadata": {},
   "outputs": [],
   "source": [
    "function: it is a block of code when the function is defined using def \n",
    "function call: it is used when we call the function in the program by pasing paramenters if required."
   ]
  },
  {
   "cell_type": "markdown",
   "id": "b47186ca",
   "metadata": {},
   "source": [
    "How many global scopes are there in a Python program? How many local scopes?"
   ]
  },
  {
   "cell_type": "code",
   "execution_count": null,
   "id": "c182e63f",
   "metadata": {},
   "outputs": [],
   "source": [
    "the global scopes are when the variables are accesable through out the program\n",
    "local scope of variables gets completed once the function in which the variables is defined ends"
   ]
  },
  {
   "cell_type": "markdown",
   "id": "397da627",
   "metadata": {},
   "source": [
    "What happens to variables in a local scope when the function call returns?"
   ]
  },
  {
   "cell_type": "code",
   "execution_count": null,
   "id": "09b00cb7",
   "metadata": {},
   "outputs": [],
   "source": [
    "the scope of local variable ends with the return of the function call"
   ]
  },
  {
   "cell_type": "markdown",
   "id": "517ddd4d",
   "metadata": {},
   "source": [
    "7. What is the concept of a return value? Is it possible to have a return value in an expression?"
   ]
  },
  {
   "cell_type": "code",
   "execution_count": null,
   "id": "b482264e",
   "metadata": {},
   "outputs": [],
   "source": [
    "return value is the value returned by the fumction called and it can be used in the expression."
   ]
  },
  {
   "cell_type": "markdown",
   "id": "6328f6fe",
   "metadata": {},
   "source": [
    "If a function does not have a return statement, what is the return value of a call to that function?"
   ]
  },
  {
   "cell_type": "code",
   "execution_count": null,
   "id": "b7fce3d2",
   "metadata": {},
   "outputs": [],
   "source": [
    "none"
   ]
  },
  {
   "cell_type": "markdown",
   "id": "a583e02f",
   "metadata": {},
   "source": [
    "How do you make a function variable refer to the global variable?"
   ]
  },
  {
   "cell_type": "code",
   "execution_count": null,
   "id": "73775579",
   "metadata": {},
   "outputs": [],
   "source": [
    "by usingkeyword global"
   ]
  },
  {
   "cell_type": "markdown",
   "id": "26f28f4e",
   "metadata": {},
   "source": [
    "10. What is the data type of None?\n"
   ]
  },
  {
   "cell_type": "code",
   "execution_count": null,
   "id": "6393fbaf",
   "metadata": {},
   "outputs": [],
   "source": [
    "NoneType"
   ]
  },
  {
   "cell_type": "markdown",
   "id": "5eb6861a",
   "metadata": {},
   "source": [
    "11. What does the sentence import areallyourpetsnamederic do?"
   ]
  },
  {
   "cell_type": "code",
   "execution_count": null,
   "id": "efb9f4f6",
   "metadata": {},
   "outputs": [],
   "source": [
    "import areallyourpetsnamederic"
   ]
  },
  {
   "cell_type": "code",
   "execution_count": null,
   "id": "199dca36",
   "metadata": {},
   "outputs": [],
   "source": [
    "goes to infinite loop"
   ]
  },
  {
   "cell_type": "markdown",
   "id": "f6b2469a",
   "metadata": {},
   "source": [
    "If you had a bacon() feature in a spam module, what would you call it after importing spam?"
   ]
  },
  {
   "cell_type": "code",
   "execution_count": null,
   "id": "61bc3364",
   "metadata": {},
   "outputs": [],
   "source": [
    "spam.bacon()"
   ]
  },
  {
   "cell_type": "markdown",
   "id": "8ee529f5",
   "metadata": {},
   "source": [
    "What can you do to save a programme from crashing if it encounters an error?"
   ]
  },
  {
   "cell_type": "code",
   "execution_count": null,
   "id": "52b06cca",
   "metadata": {},
   "outputs": [],
   "source": [
    "exception handling"
   ]
  },
  {
   "cell_type": "markdown",
   "id": "1a384f58",
   "metadata": {},
   "source": [
    "What is the purpose of the try clause? What is the purpose of the except clause?"
   ]
  },
  {
   "cell_type": "code",
   "execution_count": null,
   "id": "81ec6c34",
   "metadata": {},
   "outputs": [],
   "source": [
    "try block is used to test the code whereas except block is used tohandle the errors/exceptions raised by the code\n",
    "of try block"
   ]
  }
 ],
 "metadata": {
  "kernelspec": {
   "display_name": "Python 3 (ipykernel)",
   "language": "python",
   "name": "python3"
  }
 },
 "nbformat": 4,
 "nbformat_minor": 5
}
