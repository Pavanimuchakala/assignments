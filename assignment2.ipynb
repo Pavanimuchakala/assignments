{
 "cells": [
  {
   "cell_type": "markdown",
   "id": "8d3721ab",
   "metadata": {},
   "source": [
    "1.What are the two values of the Boolean data type? How do you write them?"
   ]
  },
  {
   "cell_type": "markdown",
   "id": "964a077d",
   "metadata": {},
   "source": [
    "the two different types of boolean data types are True, False"
   ]
  },
  {
   "cell_type": "markdown",
   "id": "3fb36561",
   "metadata": {},
   "source": [
    "2. What are the three different types of Boolean operators?"
   ]
  },
  {
   "cell_type": "markdown",
   "id": "14dd017a",
   "metadata": {},
   "source": [
    "three are differnt types of boolean operators like and, or, not"
   ]
  },
  {
   "cell_type": "markdown",
   "id": "741f5662",
   "metadata": {},
   "source": [
    "3. Make a list of each Boolean operator&#39;s truth tables (i.e. every possible combination of Boolean\n",
    "values for the operator and what it evaluate )."
   ]
  },
  {
   "cell_type": "code",
   "execution_count": 8,
   "id": "c1326f19",
   "metadata": {},
   "outputs": [
    {
     "data": {
      "text/plain": [
       "[0, 0, 0, 1]"
      ]
     },
     "execution_count": 8,
     "metadata": {},
     "output_type": "execute_result"
    }
   ],
   "source": [
    "#and\n",
    "[0 and 0,\n",
    "0 and 1,\n",
    "1 and 0,\n",
    "1 and 1]\n"
   ]
  },
  {
   "cell_type": "code",
   "execution_count": 9,
   "id": "1dc7d7d6",
   "metadata": {},
   "outputs": [
    {
     "data": {
      "text/plain": [
       "[0, 1, 1, 1]"
      ]
     },
     "execution_count": 9,
     "metadata": {},
     "output_type": "execute_result"
    }
   ],
   "source": [
    "#or\n",
    "[0 or 0,\n",
    "0 or 1,\n",
    "1 or 0,\n",
    "1 or 1]"
   ]
  },
  {
   "cell_type": "code",
   "execution_count": 10,
   "id": "edca6924",
   "metadata": {},
   "outputs": [
    {
     "data": {
      "text/plain": [
       "[True, False]"
      ]
     },
     "execution_count": 10,
     "metadata": {},
     "output_type": "execute_result"
    }
   ],
   "source": [
    "[not 0, not 1]\n"
   ]
  },
  {
   "cell_type": "markdown",
   "id": "e65fe729",
   "metadata": {},
   "source": [
    "4. What are the values of the following expressions?\n",
    "(5 &gt; 4) and (3 == 5)\n",
    "not (5 &gt; 4)\n",
    "(5 &gt; 4) or (3 == 5)\n",
    "not ((5 &gt; 4) or (3 == 5))\n",
    "(True and True) and (True == False)\n",
    "(not False) or (not True)"
   ]
  },
  {
   "cell_type": "code",
   "execution_count": 11,
   "id": "fd83b089",
   "metadata": {},
   "outputs": [
    {
     "data": {
      "text/plain": [
       "[False, False, True, False, False, True]"
      ]
     },
     "execution_count": 11,
     "metadata": {},
     "output_type": "execute_result"
    }
   ],
   "source": [
    "[(5 > 4) and (3 == 5),not (5> 4), (5 > 4) or (3 == 5),not ((5 > 4) or (3 == 5)),(True and True) and (True == False),\n",
    "(not False) or (not True)]"
   ]
  },
  {
   "cell_type": "markdown",
   "id": "7b6375dc",
   "metadata": {},
   "source": [
    "5. What are the six comparison operators?"
   ]
  },
  {
   "cell_type": "markdown",
   "id": "27b0e3cc",
   "metadata": {},
   "source": [
    "<,>,==,!=,>=,<="
   ]
  },
  {
   "cell_type": "markdown",
   "id": "ab8e55be",
   "metadata": {},
   "source": [
    "6. How do you tell the difference between the equal to and assignment operators?Describe a\n",
    "condition and when you would use one."
   ]
  },
  {
   "cell_type": "code",
   "execution_count": 12,
   "id": "e92d1f42",
   "metadata": {},
   "outputs": [
    {
     "data": {
      "text/plain": [
       "42"
      ]
     },
     "execution_count": 12,
     "metadata": {},
     "output_type": "execute_result"
    }
   ],
   "source": [
    "#= : is a assignment operator it assignes values \n",
    "a=42\n",
    "a"
   ]
  },
  {
   "cell_type": "code",
   "execution_count": 14,
   "id": "7ee1eddc",
   "metadata": {},
   "outputs": [
    {
     "data": {
      "text/plain": [
       "True"
      ]
     },
     "execution_count": 14,
     "metadata": {},
     "output_type": "execute_result"
    }
   ],
   "source": [
    "# == : comparision operator is used to compare whether the value is equal which would return true if condition satisfies \n",
    "#else false\n",
    "a=10\n",
    "a==10"
   ]
  },
  {
   "cell_type": "markdown",
   "id": "5daf7fed",
   "metadata": {},
   "source": [
    "7. Identify the three blocks in this code:\n",
    "spam = 0\n",
    "if spam == 10:\n",
    "print(&#39;eggs&#39;)\n",
    "if spam &gt; 5:\n",
    "print(&#39;bacon&#39;)\n",
    "else:\n",
    "print(&#39;ham&#39;)\n",
    "print(&#39;spam&#39;)\n",
    "print(&#39;spam&#39;)"
   ]
  },
  {
   "cell_type": "markdown",
   "id": "21b0f3ca",
   "metadata": {},
   "source": [
    "the three blocks are if , if , else block"
   ]
  },
  {
   "cell_type": "markdown",
   "id": "7cc48a33",
   "metadata": {},
   "source": [
    "8. Write code that prints Hello if 1 is stored in spam, prints Howdy if 2 is stored in spam, and prints\n",
    "Greetings! if anything else is stored in spam."
   ]
  },
  {
   "cell_type": "code",
   "execution_count": 18,
   "id": "646d55dd",
   "metadata": {},
   "outputs": [
    {
     "name": "stdout",
     "output_type": "stream",
     "text": [
      "please insert value for spam6\n",
      "Greetings!\n"
     ]
    }
   ],
   "source": [
    "spam=int(input('please insert value for spam'))\n",
    "\n",
    "if spam==1: print('Hello')\n",
    "elif spam ==2: print('Howdy')\n",
    "else : print(\"Greetings!\")"
   ]
  },
  {
   "cell_type": "code",
   "execution_count": null,
   "id": "f4d32168",
   "metadata": {},
   "outputs": [],
   "source": []
  }
 ],
 "metadata": {
  "kernelspec": {
   "display_name": "Python 3 (ipykernel)",
   "language": "python",
   "name": "python3"
  },
  "language_info": {
   "codemirror_mode": {
    "name": "ipython",
    "version": 3
   },
   "file_extension": ".py",
   "mimetype": "text/x-python",
   "name": "python",
   "nbconvert_exporter": "python",
   "pygments_lexer": "ipython3",
   "version": "3.9.12"
  }
 },
 "nbformat": 4,
 "nbformat_minor": 5
}
